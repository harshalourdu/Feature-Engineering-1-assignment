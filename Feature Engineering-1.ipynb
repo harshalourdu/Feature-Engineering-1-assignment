{
 "cells": [
  {
   "cell_type": "markdown",
   "metadata": {},
   "source": [
    "Q1: What are missing values in a dataset? Why is it essential to handle missing values? Name some\n",
    "algorithms that are not affected by missing values.\n",
    "\n",
    "\n",
    "Q2: List down techniques used to handle missing data. Give an example of each with python code.\n",
    "\n",
    "\n",
    "Q3: Explain the imbalanced data. What will happen if imbalanced data is not handled?\n",
    "\n",
    "\n",
    "Q4: What are Up-sampling and Down-sampling? Explain with an example when up-sampling and down-\n",
    "sampling are required.\n",
    "\n",
    "\n",
    "Q5: What is data Augmentation? Explain SMOTE.\n",
    "\n",
    "\n",
    "Q6: What are outliers in a dataset? Why is it essential to handle outliers?\n",
    "\n",
    "\n",
    "Q7: You are working on a project that requires analyzing customer data. However, you notice that some of\n",
    "\n",
    "the data is missing. What are some techniques you can use to handle the missing data in your analysis?\n",
    "\n",
    "\n",
    "Q8: You are working with a large dataset and find that a small percentage of the data is missing. What are\n",
    "some strategies you can use to determine if the missing data is missing at random or if there is a pattern\n",
    "to the missing data?\n",
    "\n",
    "\n",
    "Q9: Suppose you are working on a medical diagnosis project and find that the majority of patients in the\n",
    "dataset do not have the condition of interest, while a small percentage do. What are some strategies you\n",
    "can use to evaluate the performance of your machine learning model on this imbalanced dataset?\n",
    "\n",
    "\n",
    "Q10: When attempting to estimate customer satisfaction for a project, you discover that the dataset is\n",
    "unbalanced, with the bulk of customers reporting being satisfied. What methods can you employ to\n",
    "balance the dataset and down-sample the majority class?\n",
    "\n",
    "\n",
    "Q11: You discover that the dataset is unbalanced with a low percentage of occurrences while working on a\n",
    "project that requires you to estimate the occurrence of a rare event. What methods can you employ to\n",
    "balance the dataset and up-sample the minority class?"
   ]
  },
  {
   "cell_type": "markdown",
   "metadata": {},
   "source": [
    "# Q1: What are missing values in a dataset? Why is it essential to handle missing values? Name some algorithms that are not affected by missing values.\n",
    "Missing values occur when certain data entries are unavailable, incomplete, or undefined for certain observations in a dataset. These missing values can arise due to various reasons such as human error, data corruption, or failure to collect data for specific variables.\n",
    "\n",
    "Why handle missing values?\n",
    "Data Quality: Missing values can lead to biased results and skewed analysis. If not handled properly, they may reduce the quality and reliability of the model.\n",
    "Model Accuracy: Most machine learning algorithms cannot handle missing values directly and will fail to train on such data.\n",
    "Statistical Integrity: Ignoring missing data can distort summary statistics, models, and conclusions.\n",
    "Algorithms not affected by missing values:\n",
    "\n",
    "Decision Trees: Decision tree-based algorithms (like CART or Random Forest) can handle missing values by splitting data based on available features.\n",
    "k-Nearest Neighbors (KNN): KNN can handle missing values by substituting missing values with the average or most frequent value from the nearest neighbors.\n",
    "Naive Bayes: Some implementations of Naive Bayes can handle missing data, treating missing values as a special case."
   ]
  },
  {
   "cell_type": "code",
   "execution_count": null,
   "metadata": {},
   "outputs": [],
   "source": [
    "# 2. Q2: List down techniques used to handle missing data. Give an example of each with python code.\n",
    "\n",
    "import pandas as pd\n",
    "df = pd.DataFrame({'A': [1, 2, None, 4], 'B': [None, 2, 3, 4]})\n",
    "df_clean = df.dropna()  # Drops any row with a missing value\n",
    "print(df_clean)\n"
   ]
  },
  {
   "cell_type": "markdown",
   "metadata": {},
   "source": [
    "# Q3: Explain imbalanced data. What will happen if imbalanced data is not handled?\n",
    "Imbalanced Data occurs when one class or category in the dataset has significantly more examples than the other, causing the model to be biased toward the majority class. This can lead to inaccurate predictions, especially for the minority class.\n",
    "\n",
    "Consequences of not handling imbalanced data:\n",
    "Bias in Model: The model may predict the majority class most of the time, leading to poor performance for the minority class.\n",
    "Misleading Accuracy: If the majority class is dominant, high accuracy might not mean the model is truly effective.\n",
    "Poor Model Performance: Specific tasks, like fraud detection or rare disease prediction, are hindered if the model can't effectively identify the minority class"
   ]
  },
  {
   "cell_type": "code",
   "execution_count": null,
   "metadata": {},
   "outputs": [],
   "source": [
    "# 4. from imblearn.over_sampling import SMOTE\n",
    "smote = SMOTE()\n",
    "X_res, y_res = smote.fit_resample(X_train, y_train)\n"
   ]
  },
  {
   "cell_type": "markdown",
   "metadata": {},
   "source": [
    "# Q5: What is data Augmentation? Explain SMOTE.\n",
    "Data Augmentation: This technique artificially increases the size of the training dataset by creating modified versions of existing data points. It is commonly used in image processing but can also apply to other types of data. For instance, in text classification, one could paraphrase sentences to augment the data.\n",
    "\n",
    "SMOTE (Synthetic Minority Over-sampling Technique): SMOTE is an advanced up-sampling technique that generates synthetic examples for the minority class by interpolating between existing minority class instances. Unlike simple duplication, SMOTE creates new, realistic examples, improving model generalization.\n",
    "\n",
    "# Q6: What are outliers in a dataset? Why is it essential to handle outliers?\n",
    "Outliers are data points that are significantly different from the majority of the data, often being much higher or lower than the normal range of values.\n",
    "\n",
    "Why handle outliers?:\n",
    "Impact on Model Performance: Outliers can distort model performance by disproportionately influencing the model’s predictions, leading to incorrect conclusions.\n",
    "Impact on Statistical Measures: Outliers can inflate the variance and skew results, affecting summary statistics like mean and standard deviation.\n",
    "Improved Accuracy: Handling outliers can improve the accuracy of predictive models and ensure better generalization.\n",
    "\n",
    "\n",
    "# Q7: You are working on a project that requires analyzing customer data. However, you notice that some of the data is missing. What are some techniques you can use to handle the missing data in your analysis?\n",
    "Some techniques to handle missing data in customer data include:\n",
    "\n",
    "Mean/Median Imputation for numerical data.\n",
    "Mode Imputation for categorical data.\n",
    "KNN Imputation or other predictive imputation techniques.\n",
    "Drop missing rows or columns (only if there are very few missing values).\n",
    "Forward/Backward Fill if the data is time-series or sequential in nature.\n",
    "\n",
    "# Q8: You are working with a large dataset and find that a small percentage of the data is missing. What are some strategies you can use to determine if the missing data is missing at random or if there is a pattern to the missing data?\n",
    "To determine if missing data is missing at random or has a pattern:\n",
    "\n",
    "Visualize the missing data: Use heatmaps or bar plots to visualize missing data patterns.\n",
    "Missing Data Imputation Comparison: Compare the imputed dataset with the original one to observe if patterns emerge.\n",
    "Statistical Tests: Use statistical tests like Little's MCAR (Missing Completely At Random) test to check for randomness.\n",
    "Correlations: Analyze if missing data is correlated with other features, suggesting a non-random missingness pattern.\n",
    "\n",
    "\n",
    "# Q9: Suppose you are working on a medical diagnosis project and find that the majority of patients in the dataset do not have the condition of interest, while a small percentage do. What are some strategies you can use to evaluate the performance of your machine learning model on this imbalanced dataset?\n",
    "To evaluate the performance on an imbalanced dataset:\n",
    "\n",
    "Confusion Matrix: Use a confusion matrix to get detailed performance metrics (True Positives, False Positives, etc.).\n",
    "Precision-Recall Curve: Use precision-recall curves rather than ROC curves since precision-recall is more informative for imbalanced datasets.\n",
    "F1-Score: Evaluate the model using the F1-score, which balances precision and recall.\n",
    "AUC-PR (Area Under the Precision-Recall Curve): Measure the area under the precision-recall curve for a better evaluation of the minority class.\n"
   ]
  },
  {
   "cell_type": "code",
   "execution_count": null,
   "metadata": {},
   "outputs": [],
   "source": [
    "# Q10: When attempting to estimate customer satisfaction for a project, you discover that the dataset is unbalanced, with the bulk of customers reporting being satisfied. What methods can you employ to balance the dataset and down-sample the majority class?\n",
    "\n",
    "from sklearn.utils import resample\n",
    "X_majority_downsampled, y_majority_downsampled = resample(X_majority, y_majority, n_samples=len(X_minority))\n"
   ]
  },
  {
   "cell_type": "markdown",
   "metadata": {},
   "source": [
    "# Q11: You discover that the dataset is unbalanced with a low percentage of occurrences while working on a project that requires you to estimate the occurrence of a rare event. What methods can you employ to balance the dataset and up-sample the minority class?\n",
    "To handle imbalanced datasets with rare events:\n",
    "\n",
    "Up-sampling the Minority Class: Use SMOTE or simple duplication to generate more examples of the rare event.\n",
    "Ensemble Methods: Use ensemble techniques such as Random Forest or XGBoost, which handle imbalanced data well.\n",
    "Cost-sensitive Learning: Assign a higher penalty for misclassifying the minority class in algorithms like SVM or decision trees."
   ]
  }
 ],
 "metadata": {
  "language_info": {
   "name": "python"
  }
 },
 "nbformat": 4,
 "nbformat_minor": 2
}
